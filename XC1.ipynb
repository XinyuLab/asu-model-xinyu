{
 "cells": [
  {
   "cell_type": "markdown",
   "id": "a06e4130-b7c3-46b0-aa2e-2151f1143749",
   "metadata": {},
   "source": [
    "## A 1D diffusion mode"
   ]
  },
  {
   "cell_type": "markdown",
   "id": "fdf90dd8-029e-4e00-b53c-c153b3c5137f",
   "metadata": {},
   "source": [
    "Here we develop a one-dimensional model of diffusion. "
   ]
  },
  {
   "cell_type": "markdown",
   "id": "89b3b8e8-8d7f-4f29-b145-3afd9ed69cf6",
   "metadata": {},
   "source": [
    "Here is the diffusion equation"
   ]
  },
  {
   "cell_type": "markdown",
   "id": "f694806e-4782-4bd5-9078-49fb98f8f993",
   "metadata": {},
   "source": [
    "$$ \\frac{\\partial C}{\\partial t} = D\\frac{\\partial^2 C}{\\partial x^2} $$\n",
    "\n"
   ]
  },
  {
   "cell_type": "markdown",
   "id": "a17da2ca-631b-4aa6-8dd9-0e57f8000de9",
   "metadata": {},
   "source": [
    "Here is the discretized version of diffusion equation "
   ]
  },
  {
   "cell_type": "markdown",
   "id": "2953e815-2a6a-4e38-811a-482b8532db79",
   "metadata": {},
   "source": [
    "$$ C^{t+1}_x = C^t_x + {D \\Delta t \\over \\Delta x^2} (C^t_{x+1} - 2C^t_x + C^t_{x-1}) $$"
   ]
  },
  {
   "cell_type": "markdown",
   "id": "7452c64f-ee97-4774-bff6-6d2e24dbdd8b",
   "metadata": {},
   "source": [
    "This is the FTCS scheme"
   ]
  },
  {
   "cell_type": "markdown",
   "id": "cfad21d1-e935-43ca-84a4-be34c71bb784",
   "metadata": {},
   "source": [
    "we will use two libraries. Numpy (for arrays) and Matplotlib (for plotting), that are not a part of the core Python distribution"
   ]
  },
  {
   "cell_type": "code",
   "execution_count": null,
   "id": "8b1e689b-0003-445f-800e-1701e06825c0",
   "metadata": {},
   "outputs": [],
   "source": [
    "import numpy as np\n",
    "import matplotlib .pyplot as plt"
   ]
  },
  {
   "cell_type": "markdown",
   "id": "05e22e1f-9fa9-44f3-ae82-e51876549c0c",
   "metadata": {},
   "source": [
    "start by setting two fixed model parameters, the diffusivity and the size of the model domain  `"
   ]
  },
  {
   "cell_type": "code",
   "execution_count": null,
   "id": "dec8f2c8-5aa8-4807-bcb8-55d3137d5416",
   "metadata": {},
   "outputs": [],
   "source": [
    "D = 100\n",
    "Lx = 300"
   ]
  },
  {
   "cell_type": "code",
   "execution_count": null,
   "id": "f005569f-7dfe-4e3a-8d57-21b62256bb28",
   "metadata": {},
   "outputs": [],
   "source": [
    "dx = 0.5\n",
    "x = np.arange(start = 0, stop = Lx, step = dx)\n",
    "nx = len(x)"
   ]
  },
  {
   "cell_type": "markdown",
   "id": "69327738-7a0c-400f-a63d-6e564d83dea1",
   "metadata": {},
   "source": [
    "Set the initial conditions for the model. the cake C is a step function with a high value of the left, a low value on the right, and a step at the center of the domain"
   ]
  },
  {
   "cell_type": "code",
   "execution_count": null,
   "id": "59835f30-e725-48bc-9bc6-968ca845e872",
   "metadata": {},
   "outputs": [],
   "source": [
    "C = np.zeros_like(x);\n",
    "C_left = 500\n",
    "C_right = 0\n",
    "C[x<=Lx/2] = C_left\n",
    "C[x>Lx/2] = C_right"
   ]
  },
  {
   "cell_type": "code",
   "execution_count": null,
   "id": "0f07c99b-ff28-4386-96ec-b7696d386a52",
   "metadata": {},
   "outputs": [],
   "source": [
    "plt.figure()\n",
    "plt.plot(x, C, \"r\")\n",
    "plt.xlabel(\"x\")\n",
    "plt.ylabel(\"y\")\n",
    "plt.title(\"Initial Profile\")"
   ]
  },
  {
   "cell_type": "code",
   "execution_count": null,
   "id": "f86d1551-9d4b-4f33-83cf-2721e3773794",
   "metadata": {},
   "outputs": [],
   "source": [
    "nt = 5000\n",
    "dt = 0.5*dx**2/D"
   ]
  },
  {
   "cell_type": "markdown",
   "id": "138f6871-4b81-4d1d-890b-9482fd45448d",
   "metadata": {},
   "source": [
    "Loop over the time steps of the model, solving the diffusion equation using the FTCS scheme shown above. Note the use of array opearatoons on the variable C. The boundary conditions remain fixed in each time step."
   ]
  },
  {
   "cell_type": "code",
   "execution_count": null,
   "id": "78ea7c50-05a7-43a6-a96f-3dc43704b50d",
   "metadata": {},
   "outputs": [],
   "source": [
    "for t in range(0,nt):\n",
    "    C[1:-1] += D*dt/dx**2*(C[:-2]-2*C[1:-1]+C[2:])"
   ]
  },
  {
   "cell_type": "code",
   "execution_count": null,
   "id": "4b58439e-0941-4809-941e-2520e8c237bd",
   "metadata": {},
   "outputs": [],
   "source": [
    "plt.plot(x, C, \"b\")\n",
    "plt.xlabel(\"x\")\n",
    "plt.ylabel(\"y\")\n",
    "plt.title(\"Final Profile\")"
   ]
  }
 ],
 "metadata": {
  "kernelspec": {
   "display_name": "Ivy",
   "language": "python",
   "name": "ivy"
  },
  "language_info": {
   "codemirror_mode": {
    "name": "ipython",
    "version": 3
   },
   "file_extension": ".py",
   "mimetype": "text/x-python",
   "name": "python",
   "nbconvert_exporter": "python",
   "pygments_lexer": "ipython3",
   "version": "3.13.3"
  }
 },
 "nbformat": 4,
 "nbformat_minor": 5
}
